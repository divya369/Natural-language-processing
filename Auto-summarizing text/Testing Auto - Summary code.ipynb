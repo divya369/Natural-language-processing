{
 "cells": [
  {
   "cell_type": "markdown",
   "metadata": {},
   "source": [
    "## Testing auto-sumarrize function : extracting data from website"
   ]
  },
  {
   "cell_type": "code",
   "execution_count": 1,
   "metadata": {},
   "outputs": [],
   "source": [
    "import urllib3\n",
    "urllib3.disable_warnings()\n",
    "from bs4 import BeautifulSoup\n",
    "\n",
    "from nltk.tokenize import word_tokenize,sent_tokenize\n",
    "from nltk.corpus import stopwords\n",
    "from string import punctuation\n",
    "\n",
    "from nltk.probability import FreqDist\n",
    "from heapq import nlargest\n",
    "\n",
    "from collections import defaultdict"
   ]
  },
  {
   "cell_type": "code",
   "execution_count": 2,
   "metadata": {},
   "outputs": [],
   "source": [
    "url = \"https://hackernoon.com/why-python-is-the-best-choice-for-fintech-products-64a2eae7b8be\"\n",
    "# url = \"https://itnext.io/list-of-free-resources-to-learn-natural-language-processing-ce27231e79a2\""
   ]
  },
  {
   "cell_type": "code",
   "execution_count": 3,
   "metadata": {},
   "outputs": [],
   "source": [
    "def getTextWaPo(url):\n",
    "    http = urllib3.PoolManager()\n",
    "    page = http.request('GET', url)\n",
    "    soup = BeautifulSoup(page.data.decode('UTF-8'),'html.parser')    # 'lxml' parser\n",
    "    text = ' '.join(map(lambda p: p.text, soup.find_all('article')))\n",
    "    text.encode('ascii', errors='replace').replace(b\"?\",b\" \")\n",
    "    return text"
   ]
  },
  {
   "cell_type": "code",
   "execution_count": 4,
   "metadata": {},
   "outputs": [],
   "source": [
    "def summarize(text,n):\n",
    "    sents = sent_tokenize(text)\n",
    "    \n",
    "    assert n <= len(sents)       # fucntion fails if article contains 2 function and you have to make summary of 3 sentence.\n",
    "    \n",
    "    word_sent = word_tokenize(text.lower())\n",
    "    _stopwords = set(stopwords.words('english') + list(punctuation))\n",
    "    \n",
    "    word_sent = [word for word in word_sent if word not in _stopwords]\n",
    "\n",
    "    freq = FreqDist(word_sent)\n",
    "    \n",
    "    ranking = defaultdict(int)\n",
    "    \n",
    "    for i,sent in enumerate(sents):\n",
    "        for w in word_tokenize(sent.lower()):\n",
    "            if w in freq:\n",
    "                ranking[i] += freq[w]\n",
    "                \n",
    "    sents_idx = nlargest(n, ranking, key=ranking.get)\n",
    "    \n",
    "    return [sents[j] for j in sorted(sents_idx)]"
   ]
  },
  {
   "cell_type": "code",
   "execution_count": 5,
   "metadata": {},
   "outputs": [],
   "source": [
    "text = getTextWaPo(url)"
   ]
  },
  {
   "cell_type": "code",
   "execution_count": 6,
   "metadata": {},
   "outputs": [
    {
     "data": {
      "text/plain": [
       "['It’s flexible, it is able to adapt to the new users’ needs\\u200a—\\u200ait’s exactly what millennials want.',\n",
       " 'It’s quite simple: with the Python/Django stack, you can build an MVP quite fast, which increases your chances to find your product/market fit.The only way fintech will be able to compete and/or collaborate with traditional banking and finance is adapting to changes and customer’s demands, offering additional services and improvements according to customer’s wishes.',\n",
       " 'Thanks to Python’s open libraries, you don’t have to build your tools from scratch and develop the product and analyze large amounts of data in the shortest amounts of time.',\n",
       " 'It’s the go-to language for data analysis, which makes it attractive for non-technical fields like business, and the best programming language for financial analysis.Again, I’m not trying to say that Python is the only way to go.']"
      ]
     },
     "execution_count": 6,
     "metadata": {},
     "output_type": "execute_result"
    }
   ],
   "source": [
    "summarize(text,4)"
   ]
  }
 ],
 "metadata": {
  "kernelspec": {
   "display_name": "Python 3",
   "language": "python",
   "name": "python3"
  },
  "language_info": {
   "codemirror_mode": {
    "name": "ipython",
    "version": 3
   },
   "file_extension": ".py",
   "mimetype": "text/x-python",
   "name": "python",
   "nbconvert_exporter": "python",
   "pygments_lexer": "ipython3",
   "version": "3.6.5"
  }
 },
 "nbformat": 4,
 "nbformat_minor": 2
}
